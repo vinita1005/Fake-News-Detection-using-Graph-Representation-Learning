{
  "nbformat": 4,
  "nbformat_minor": 0,
  "metadata": {
    "colab": {
      "name": "fake_news_detection.ipynb",
      "provenance": [],
      "collapsed_sections": []
    },
    "kernelspec": {
      "name": "python3",
      "display_name": "Python 3"
    }
  },
  "cells": [
    {
      "cell_type": "code",
      "metadata": {
        "colab": {
          "base_uri": "https://localhost:8080/"
        },
        "id": "jzncODGgVu4a",
        "outputId": "3f67affc-54a7-4814-e55b-3996f9f76830"
      },
      "source": [
        "from google.colab import drive\n",
        "drive.mount('/content/drive/')"
      ],
      "execution_count": 2,
      "outputs": [
        {
          "output_type": "stream",
          "text": [
            "Mounted at /content/drive/\n"
          ],
          "name": "stdout"
        }
      ]
    },
    {
      "cell_type": "code",
      "metadata": {
        "colab": {
          "base_uri": "https://localhost:8080/"
        },
        "id": "95rM3srFhFjF",
        "outputId": "98d12075-f211-4304-d9b8-3333cf38a6cb"
      },
      "source": [
        "!pip install --upgrade tensorflow-hub"
      ],
      "execution_count": 3,
      "outputs": [
        {
          "output_type": "stream",
          "text": [
            "Requirement already up-to-date: tensorflow-hub in /usr/local/lib/python3.6/dist-packages (0.10.0)\n",
            "Requirement already satisfied, skipping upgrade: numpy>=1.12.0 in /usr/local/lib/python3.6/dist-packages (from tensorflow-hub) (1.18.5)\n",
            "Requirement already satisfied, skipping upgrade: protobuf>=3.8.0 in /usr/local/lib/python3.6/dist-packages (from tensorflow-hub) (3.12.4)\n",
            "Requirement already satisfied, skipping upgrade: six>=1.9 in /usr/local/lib/python3.6/dist-packages (from protobuf>=3.8.0->tensorflow-hub) (1.15.0)\n",
            "Requirement already satisfied, skipping upgrade: setuptools in /usr/local/lib/python3.6/dist-packages (from protobuf>=3.8.0->tensorflow-hub) (50.3.2)\n"
          ],
          "name": "stdout"
        }
      ]
    },
    {
      "cell_type": "code",
      "metadata": {
        "colab": {
          "base_uri": "https://localhost:8080/"
        },
        "id": "xlJgORzLmuLO",
        "outputId": "3f49b898-f24e-438f-8e85-23fa3d06a93a"
      },
      "source": [
        "!pip install spektral"
      ],
      "execution_count": 4,
      "outputs": [
        {
          "output_type": "stream",
          "text": [
            "Collecting spektral\n",
            "\u001b[?25l  Downloading https://files.pythonhosted.org/packages/a5/b2/7b51a6b2719a085fa70ab5ef523d0ca6a68bf1751c02d3487c8e0e6c11a3/spektral-1.0.2-py3-none-any.whl (111kB)\n",
            "\r\u001b[K     |███                             | 10kB 13.3MB/s eta 0:00:01\r\u001b[K     |██████                          | 20kB 18.6MB/s eta 0:00:01\r\u001b[K     |████████▉                       | 30kB 11.6MB/s eta 0:00:01\r\u001b[K     |███████████▉                    | 40kB 8.6MB/s eta 0:00:01\r\u001b[K     |██████████████▊                 | 51kB 4.6MB/s eta 0:00:01\r\u001b[K     |█████████████████▊              | 61kB 5.2MB/s eta 0:00:01\r\u001b[K     |████████████████████▋           | 71kB 5.4MB/s eta 0:00:01\r\u001b[K     |███████████████████████▋        | 81kB 5.7MB/s eta 0:00:01\r\u001b[K     |██████████████████████████▌     | 92kB 6.0MB/s eta 0:00:01\r\u001b[K     |█████████████████████████████▌  | 102kB 6.0MB/s eta 0:00:01\r\u001b[K     |████████████████████████████████| 112kB 6.0MB/s \n",
            "\u001b[?25hRequirement already satisfied: scikit-learn in /usr/local/lib/python3.6/dist-packages (from spektral) (0.22.2.post1)\n",
            "Requirement already satisfied: joblib in /usr/local/lib/python3.6/dist-packages (from spektral) (0.17.0)\n",
            "Requirement already satisfied: pandas in /usr/local/lib/python3.6/dist-packages (from spektral) (1.1.4)\n",
            "Requirement already satisfied: requests in /usr/local/lib/python3.6/dist-packages (from spektral) (2.23.0)\n",
            "Requirement already satisfied: tqdm in /usr/local/lib/python3.6/dist-packages (from spektral) (4.41.1)\n",
            "Requirement already satisfied: scipy in /usr/local/lib/python3.6/dist-packages (from spektral) (1.4.1)\n",
            "Requirement already satisfied: numpy in /usr/local/lib/python3.6/dist-packages (from spektral) (1.18.5)\n",
            "Requirement already satisfied: networkx in /usr/local/lib/python3.6/dist-packages (from spektral) (2.5)\n",
            "Requirement already satisfied: tensorflow>=2.1.0 in /usr/local/lib/python3.6/dist-packages (from spektral) (2.3.0)\n",
            "Requirement already satisfied: lxml in /usr/local/lib/python3.6/dist-packages (from spektral) (4.2.6)\n",
            "Requirement already satisfied: python-dateutil>=2.7.3 in /usr/local/lib/python3.6/dist-packages (from pandas->spektral) (2.8.1)\n",
            "Requirement already satisfied: pytz>=2017.2 in /usr/local/lib/python3.6/dist-packages (from pandas->spektral) (2018.9)\n",
            "Requirement already satisfied: certifi>=2017.4.17 in /usr/local/lib/python3.6/dist-packages (from requests->spektral) (2020.11.8)\n",
            "Requirement already satisfied: chardet<4,>=3.0.2 in /usr/local/lib/python3.6/dist-packages (from requests->spektral) (3.0.4)\n",
            "Requirement already satisfied: urllib3!=1.25.0,!=1.25.1,<1.26,>=1.21.1 in /usr/local/lib/python3.6/dist-packages (from requests->spektral) (1.24.3)\n",
            "Requirement already satisfied: idna<3,>=2.5 in /usr/local/lib/python3.6/dist-packages (from requests->spektral) (2.10)\n",
            "Requirement already satisfied: decorator>=4.3.0 in /usr/local/lib/python3.6/dist-packages (from networkx->spektral) (4.4.2)\n",
            "Requirement already satisfied: h5py<2.11.0,>=2.10.0 in /usr/local/lib/python3.6/dist-packages (from tensorflow>=2.1.0->spektral) (2.10.0)\n",
            "Requirement already satisfied: tensorboard<3,>=2.3.0 in /usr/local/lib/python3.6/dist-packages (from tensorflow>=2.1.0->spektral) (2.3.0)\n",
            "Requirement already satisfied: grpcio>=1.8.6 in /usr/local/lib/python3.6/dist-packages (from tensorflow>=2.1.0->spektral) (1.33.2)\n",
            "Requirement already satisfied: protobuf>=3.9.2 in /usr/local/lib/python3.6/dist-packages (from tensorflow>=2.1.0->spektral) (3.12.4)\n",
            "Requirement already satisfied: tensorflow-estimator<2.4.0,>=2.3.0 in /usr/local/lib/python3.6/dist-packages (from tensorflow>=2.1.0->spektral) (2.3.0)\n",
            "Requirement already satisfied: keras-preprocessing<1.2,>=1.1.1 in /usr/local/lib/python3.6/dist-packages (from tensorflow>=2.1.0->spektral) (1.1.2)\n",
            "Requirement already satisfied: opt-einsum>=2.3.2 in /usr/local/lib/python3.6/dist-packages (from tensorflow>=2.1.0->spektral) (3.3.0)\n",
            "Requirement already satisfied: wheel>=0.26 in /usr/local/lib/python3.6/dist-packages (from tensorflow>=2.1.0->spektral) (0.35.1)\n",
            "Requirement already satisfied: astunparse==1.6.3 in /usr/local/lib/python3.6/dist-packages (from tensorflow>=2.1.0->spektral) (1.6.3)\n",
            "Requirement already satisfied: wrapt>=1.11.1 in /usr/local/lib/python3.6/dist-packages (from tensorflow>=2.1.0->spektral) (1.12.1)\n",
            "Requirement already satisfied: google-pasta>=0.1.8 in /usr/local/lib/python3.6/dist-packages (from tensorflow>=2.1.0->spektral) (0.2.0)\n",
            "Requirement already satisfied: absl-py>=0.7.0 in /usr/local/lib/python3.6/dist-packages (from tensorflow>=2.1.0->spektral) (0.10.0)\n",
            "Requirement already satisfied: six>=1.12.0 in /usr/local/lib/python3.6/dist-packages (from tensorflow>=2.1.0->spektral) (1.15.0)\n",
            "Requirement already satisfied: gast==0.3.3 in /usr/local/lib/python3.6/dist-packages (from tensorflow>=2.1.0->spektral) (0.3.3)\n",
            "Requirement already satisfied: termcolor>=1.1.0 in /usr/local/lib/python3.6/dist-packages (from tensorflow>=2.1.0->spektral) (1.1.0)\n",
            "Requirement already satisfied: google-auth<2,>=1.6.3 in /usr/local/lib/python3.6/dist-packages (from tensorboard<3,>=2.3.0->tensorflow>=2.1.0->spektral) (1.17.2)\n",
            "Requirement already satisfied: google-auth-oauthlib<0.5,>=0.4.1 in /usr/local/lib/python3.6/dist-packages (from tensorboard<3,>=2.3.0->tensorflow>=2.1.0->spektral) (0.4.2)\n",
            "Requirement already satisfied: werkzeug>=0.11.15 in /usr/local/lib/python3.6/dist-packages (from tensorboard<3,>=2.3.0->tensorflow>=2.1.0->spektral) (1.0.1)\n",
            "Requirement already satisfied: tensorboard-plugin-wit>=1.6.0 in /usr/local/lib/python3.6/dist-packages (from tensorboard<3,>=2.3.0->tensorflow>=2.1.0->spektral) (1.7.0)\n",
            "Requirement already satisfied: setuptools>=41.0.0 in /usr/local/lib/python3.6/dist-packages (from tensorboard<3,>=2.3.0->tensorflow>=2.1.0->spektral) (50.3.2)\n",
            "Requirement already satisfied: markdown>=2.6.8 in /usr/local/lib/python3.6/dist-packages (from tensorboard<3,>=2.3.0->tensorflow>=2.1.0->spektral) (3.3.3)\n",
            "Requirement already satisfied: pyasn1-modules>=0.2.1 in /usr/local/lib/python3.6/dist-packages (from google-auth<2,>=1.6.3->tensorboard<3,>=2.3.0->tensorflow>=2.1.0->spektral) (0.2.8)\n",
            "Requirement already satisfied: rsa<5,>=3.1.4; python_version >= \"3\" in /usr/local/lib/python3.6/dist-packages (from google-auth<2,>=1.6.3->tensorboard<3,>=2.3.0->tensorflow>=2.1.0->spektral) (4.6)\n",
            "Requirement already satisfied: cachetools<5.0,>=2.0.0 in /usr/local/lib/python3.6/dist-packages (from google-auth<2,>=1.6.3->tensorboard<3,>=2.3.0->tensorflow>=2.1.0->spektral) (4.1.1)\n",
            "Requirement already satisfied: requests-oauthlib>=0.7.0 in /usr/local/lib/python3.6/dist-packages (from google-auth-oauthlib<0.5,>=0.4.1->tensorboard<3,>=2.3.0->tensorflow>=2.1.0->spektral) (1.3.0)\n",
            "Requirement already satisfied: importlib-metadata; python_version < \"3.8\" in /usr/local/lib/python3.6/dist-packages (from markdown>=2.6.8->tensorboard<3,>=2.3.0->tensorflow>=2.1.0->spektral) (2.0.0)\n",
            "Requirement already satisfied: pyasn1<0.5.0,>=0.4.6 in /usr/local/lib/python3.6/dist-packages (from pyasn1-modules>=0.2.1->google-auth<2,>=1.6.3->tensorboard<3,>=2.3.0->tensorflow>=2.1.0->spektral) (0.4.8)\n",
            "Requirement already satisfied: oauthlib>=3.0.0 in /usr/local/lib/python3.6/dist-packages (from requests-oauthlib>=0.7.0->google-auth-oauthlib<0.5,>=0.4.1->tensorboard<3,>=2.3.0->tensorflow>=2.1.0->spektral) (3.1.0)\n",
            "Requirement already satisfied: zipp>=0.5 in /usr/local/lib/python3.6/dist-packages (from importlib-metadata; python_version < \"3.8\"->markdown>=2.6.8->tensorboard<3,>=2.3.0->tensorflow>=2.1.0->spektral) (3.4.0)\n",
            "Installing collected packages: spektral\n",
            "Successfully installed spektral-1.0.2\n"
          ],
          "name": "stdout"
        }
      ]
    },
    {
      "cell_type": "code",
      "metadata": {
        "id": "waVF_0MNW-dv"
      },
      "source": [
        "import numpy as np\n",
        "import tensorflow as tf\n",
        "import argparse\n",
        "import scipy.sparse as sp\n",
        "import pandas as pd \n",
        "import random\n",
        "import json\n",
        "import os\n",
        "\n",
        "# from feature_matrix import FeatureMatrix\n",
        "\n",
        "import pandas as pd \n",
        "import tensorflow_hub as hub\n",
        "from bert import run_classifier\n",
        "from bert import tokenization\n",
        "from sklearn.preprocessing import LabelEncoder\n",
        "from sklearn.metrics import classification_report"
      ],
      "execution_count": 1,
      "outputs": []
    },
    {
      "cell_type": "code",
      "metadata": {
        "id": "ba_5jRy6XBxP"
      },
      "source": [
        "##Code referenced from: \n",
        "##Website Title: BERT in Keras with Tensorflow hub\n",
        "##URL : https://towardsdatascience.com/bert-in-keras-with-tensorflow-hub-76bcbc9417b\n",
        "\n",
        "def create_tokenizer_from_hub_module():\n",
        "  with tf.Graph().as_default():\n",
        "    bert_module = hub.Module(\"https://tfhub.dev/google/bert_uncased_L-12_H-768_A-12/1\")\n",
        "    tokenization_info = bert_module(signature=\"tokenization_info\", as_dict=True)\n",
        "    with tf.compat.v1.Session() as sess:\n",
        "        vocab_file, do_lower_case = sess.run([tokenization_info[\"vocab_file\"],\n",
        "                                              tokenization_info[\"do_lower_case\"]])\n",
        "\n",
        "  return tokenization.FullTokenizer(vocab_file=vocab_file, do_lower_case=do_lower_case)"
      ],
      "execution_count": 2,
      "outputs": []
    },
    {
      "cell_type": "code",
      "metadata": {
        "id": "xZakw4OzXF0Q"
      },
      "source": [
        "def split_data():\n",
        "\n",
        "  random.seed(1)\n",
        "  yTrain =  label_zip[:]\n",
        "  yVal =  label_zip[:]\n",
        "  yTest =  label_zip[:]\n",
        "  train_mask = [False] * len(yTrain)\n",
        "  val_mask = [False] * len(yTrain)\n",
        "  test_mask = [False] * len(yTrain)\n",
        "  n = len(yTrain)\n",
        "\n",
        "  set_of_records_range = set(range(n))\n",
        "\n",
        "  train_range = set(random.sample(set_of_records_range, k=int(n * 0.6)))\n",
        "  set_of_records_range = set_of_records_range - train_range\n",
        "\n",
        "  val_range = set(random.sample(set_of_records_range, k=int(n * 0.2)))\n",
        "  set_of_records_range = set_of_records_range - train_range\n",
        "\n",
        "  test_range = set(random.sample(set_of_records_range, k=int(n * 0.2)))\n",
        "\n",
        "  for i in train_range:\n",
        "      yVal[i] = (0,0)\n",
        "      yTest[i] = (0,0)\n",
        "      train_mask[i] = True\n",
        "  for i in val_range:\n",
        "      yTrain[i] = (0,0)\n",
        "      yTest[i] = (0,0)\n",
        "      val_mask[i] = True\n",
        "  for i in test_range:\n",
        "      yVal[i] = (0,0)\n",
        "      yTrain[i] = (0,0)\n",
        "      test_mask[i] = True\n",
        "\n",
        "  return yTrain, yVal, yTest, train_mask, val_mask, test_mask\n"
      ],
      "execution_count": 3,
      "outputs": []
    },
    {
      "cell_type": "code",
      "metadata": {
        "id": "yy2gbWs_f1vI"
      },
      "source": [
        "def preprocess_features(features):\n",
        "  sum = np.array(features.sum(1))\n",
        "  r_inv = np.power(sum, -1, dtype=float).flatten()\n",
        "  r_inv[np.isinf(r_inv)] = 0.\n",
        "  r_mat_inv = sp.diags(r_inv)\n",
        "  features = r_mat_inv.dot(features)\n",
        "  return features.todense()"
      ],
      "execution_count": 4,
      "outputs": []
    },
    {
      "cell_type": "code",
      "metadata": {
        "id": "i8olrwshX3qR",
        "colab": {
          "base_uri": "https://localhost:8080/"
        },
        "outputId": "c6d2696f-a795-4a3e-b506-35995dc265ae"
      },
      "source": [
        "global label_zip\n",
        "path = \"/content/drive/MyDrive/Colab_Notebooks/DL_final/BuzzFeed/\"\n",
        "data_list = []\n",
        "for subfolder in [\"FakeNewsContent\", \"RealNewsContent\"]:\n",
        "  print(\"Getting data from subfolder: \", subfolder)\n",
        "  file_array = [f for f in os.listdir(path + \"/\" + subfolder) if f.endswith('.json')]\n",
        "  file_array.sort() # file is sorted list\n",
        "  file_array = [os.path.join(path + \"/\" + subfolder, name) for name in file_array]\n",
        "\n",
        "  for file in file_array:\n",
        "    # print(\"file: \", file)\n",
        "    # print(\"path: \",path + folder + \"/\" + subfolder)\n",
        "    with open(file, 'r') as json_file:\n",
        "      data = json.load(json_file)\n",
        "      if file.split(\"/\")[-2] == \"FakeNewsContent\":\n",
        "          data_list.append([data['text'], 1])\n",
        "      else:\n",
        "          data_list.append([data['text'], 0])\n",
        "\n",
        "print(\"Creating data frame\")\n",
        "data_frame = pd.DataFrame(data_list, columns=[\"text\", \"label\"])\n",
        "# data_frame = data_frame.sample(frac=1)\n",
        "\n",
        "input = data_frame.apply(lambda x: run_classifier.InputExample(guid=None, \n",
        "                                                                       text_a=x['text'], text_b=None, label=x['label']), axis=1)\n",
        "print(data_frame)\n",
        "print(\"extracting features\")\n",
        "tokenizer = create_tokenizer_from_hub_module()\n",
        "features = run_classifier.convert_examples_to_features(input, [0, 1], 128, tokenizer)\n",
        "\n",
        "train_features_list = []\n",
        "for item in features:\n",
        "  temp = item.input_ids\n",
        "  temp.append(item.label_id)\n",
        "  train_features_list.append(temp)\n",
        "column_names = [\"feature\" + str(i) for i in range(128)]\n",
        "column_names.append(\"label\")\n",
        "features_frame = pd.DataFrame(train_features_list, columns=column_names)  ##extracted features data frame\n",
        "# /content/drive/MyDrive/Colab_Notebooks/DL_final/BuzzFeed/FakeNewsContent/BuzzFeed_Fake_3-Webpage.json\n",
        "\n",
        "label = features_frame['label'].tolist()\n",
        "label_comp = [0 if each else 1 for each in label]\n",
        "\n",
        "label_zip = list(zip(label_comp, label))\n",
        "features_frame.drop(['label'], axis=1)\n",
        "feature_np = features_frame.values"
      ],
      "execution_count": 5,
      "outputs": [
        {
          "output_type": "stream",
          "text": [
            "Getting data from subfolder:  FakeNewsContent\n",
            "Getting data from subfolder:  RealNewsContent\n",
            "Creating data frame\n",
            "                                                  text  label\n",
            "0    I woke up this morning to find a variation of ...      1\n",
            "1    Former President Bill Clinton and his Clinton ...      1\n",
            "2    After collapsing just before trying to step in...      1\n",
            "3    Donald Trump is, well, deplorable. He’s sugges...      1\n",
            "4                      Website is Down For Maintenance      1\n",
            "..                                                 ...    ...\n",
            "177  Like much of the mainstream media, the Washing...      0\n",
            "178  2016 Obama’s team isn’t laughing at Trump anym...      0\n",
            "179  Story highlights Trump has 45%, Clinton 42% an...      0\n",
            "180  There may be a few women out there who enjoy a...      0\n",
            "181  Off Message Is Donald Trump qualified to be pr...      0\n",
            "\n",
            "[182 rows x 2 columns]\n",
            "extracting features\n",
            "INFO:tensorflow:Saver not created because there are no variables in the graph to restore\n"
          ],
          "name": "stdout"
        },
        {
          "output_type": "stream",
          "text": [
            "INFO:tensorflow:Saver not created because there are no variables in the graph to restore\n"
          ],
          "name": "stderr"
        },
        {
          "output_type": "stream",
          "text": [
            "INFO:tensorflow:Writing example 0 of 182\n"
          ],
          "name": "stdout"
        },
        {
          "output_type": "stream",
          "text": [
            "INFO:tensorflow:Writing example 0 of 182\n"
          ],
          "name": "stderr"
        },
        {
          "output_type": "stream",
          "text": [
            "INFO:tensorflow:*** Example ***\n"
          ],
          "name": "stdout"
        },
        {
          "output_type": "stream",
          "text": [
            "INFO:tensorflow:*** Example ***\n"
          ],
          "name": "stderr"
        },
        {
          "output_type": "stream",
          "text": [
            "INFO:tensorflow:guid: None\n"
          ],
          "name": "stdout"
        },
        {
          "output_type": "stream",
          "text": [
            "INFO:tensorflow:guid: None\n"
          ],
          "name": "stderr"
        },
        {
          "output_type": "stream",
          "text": [
            "INFO:tensorflow:tokens: [CLS] i woke up this morning to find a variation of this headline splashed all over my news feed : bill clinton : ‘ natural ’ for foundation donors to seek favors here ’ s google : naturally , my reaction was “ oh , s * * t , what did bill clinton do to damage his wife ’ s campaign now ? ” of course , the headline sounds really , really awful . it plays right into the idea that the clinton foundation is all about pay to play , just like donald trump has been saying all along . unfortunately , it takes reading beyond the headlines , which is something most people don ’ t do , to find out the real [SEP]\n"
          ],
          "name": "stdout"
        },
        {
          "output_type": "stream",
          "text": [
            "INFO:tensorflow:tokens: [CLS] i woke up this morning to find a variation of this headline splashed all over my news feed : bill clinton : ‘ natural ’ for foundation donors to seek favors here ’ s google : naturally , my reaction was “ oh , s * * t , what did bill clinton do to damage his wife ’ s campaign now ? ” of course , the headline sounds really , really awful . it plays right into the idea that the clinton foundation is all about pay to play , just like donald trump has been saying all along . unfortunately , it takes reading beyond the headlines , which is something most people don ’ t do , to find out the real [SEP]\n"
          ],
          "name": "stderr"
        },
        {
          "output_type": "stream",
          "text": [
            "INFO:tensorflow:input_ids: 101 1045 8271 2039 2023 2851 2000 2424 1037 8386 1997 2023 17653 22055 2035 2058 2026 2739 5438 1024 3021 7207 1024 1520 3019 1521 2005 3192 17843 2000 6148 21191 2182 1521 1055 8224 1024 8100 1010 2026 4668 2001 1523 2821 1010 1055 1008 1008 1056 1010 2054 2106 3021 7207 2079 2000 4053 2010 2564 1521 1055 3049 2085 1029 1524 1997 2607 1010 1996 17653 4165 2428 1010 2428 9643 1012 2009 3248 2157 2046 1996 2801 2008 1996 7207 3192 2003 2035 2055 3477 2000 2377 1010 2074 2066 6221 8398 2038 2042 3038 2035 2247 1012 6854 1010 2009 3138 3752 3458 1996 19377 1010 2029 2003 2242 2087 2111 2123 1521 1056 2079 1010 2000 2424 2041 1996 2613 102\n"
          ],
          "name": "stdout"
        },
        {
          "output_type": "stream",
          "text": [
            "INFO:tensorflow:input_ids: 101 1045 8271 2039 2023 2851 2000 2424 1037 8386 1997 2023 17653 22055 2035 2058 2026 2739 5438 1024 3021 7207 1024 1520 3019 1521 2005 3192 17843 2000 6148 21191 2182 1521 1055 8224 1024 8100 1010 2026 4668 2001 1523 2821 1010 1055 1008 1008 1056 1010 2054 2106 3021 7207 2079 2000 4053 2010 2564 1521 1055 3049 2085 1029 1524 1997 2607 1010 1996 17653 4165 2428 1010 2428 9643 1012 2009 3248 2157 2046 1996 2801 2008 1996 7207 3192 2003 2035 2055 3477 2000 2377 1010 2074 2066 6221 8398 2038 2042 3038 2035 2247 1012 6854 1010 2009 3138 3752 3458 1996 19377 1010 2029 2003 2242 2087 2111 2123 1521 1056 2079 1010 2000 2424 2041 1996 2613 102\n"
          ],
          "name": "stderr"
        },
        {
          "output_type": "stream",
          "text": [
            "INFO:tensorflow:input_mask: 1 1 1 1 1 1 1 1 1 1 1 1 1 1 1 1 1 1 1 1 1 1 1 1 1 1 1 1 1 1 1 1 1 1 1 1 1 1 1 1 1 1 1 1 1 1 1 1 1 1 1 1 1 1 1 1 1 1 1 1 1 1 1 1 1 1 1 1 1 1 1 1 1 1 1 1 1 1 1 1 1 1 1 1 1 1 1 1 1 1 1 1 1 1 1 1 1 1 1 1 1 1 1 1 1 1 1 1 1 1 1 1 1 1 1 1 1 1 1 1 1 1 1 1 1 1 1 1\n"
          ],
          "name": "stdout"
        },
        {
          "output_type": "stream",
          "text": [
            "INFO:tensorflow:input_mask: 1 1 1 1 1 1 1 1 1 1 1 1 1 1 1 1 1 1 1 1 1 1 1 1 1 1 1 1 1 1 1 1 1 1 1 1 1 1 1 1 1 1 1 1 1 1 1 1 1 1 1 1 1 1 1 1 1 1 1 1 1 1 1 1 1 1 1 1 1 1 1 1 1 1 1 1 1 1 1 1 1 1 1 1 1 1 1 1 1 1 1 1 1 1 1 1 1 1 1 1 1 1 1 1 1 1 1 1 1 1 1 1 1 1 1 1 1 1 1 1 1 1 1 1 1 1 1 1\n"
          ],
          "name": "stderr"
        },
        {
          "output_type": "stream",
          "text": [
            "INFO:tensorflow:segment_ids: 0 0 0 0 0 0 0 0 0 0 0 0 0 0 0 0 0 0 0 0 0 0 0 0 0 0 0 0 0 0 0 0 0 0 0 0 0 0 0 0 0 0 0 0 0 0 0 0 0 0 0 0 0 0 0 0 0 0 0 0 0 0 0 0 0 0 0 0 0 0 0 0 0 0 0 0 0 0 0 0 0 0 0 0 0 0 0 0 0 0 0 0 0 0 0 0 0 0 0 0 0 0 0 0 0 0 0 0 0 0 0 0 0 0 0 0 0 0 0 0 0 0 0 0 0 0 0 0\n"
          ],
          "name": "stdout"
        },
        {
          "output_type": "stream",
          "text": [
            "INFO:tensorflow:segment_ids: 0 0 0 0 0 0 0 0 0 0 0 0 0 0 0 0 0 0 0 0 0 0 0 0 0 0 0 0 0 0 0 0 0 0 0 0 0 0 0 0 0 0 0 0 0 0 0 0 0 0 0 0 0 0 0 0 0 0 0 0 0 0 0 0 0 0 0 0 0 0 0 0 0 0 0 0 0 0 0 0 0 0 0 0 0 0 0 0 0 0 0 0 0 0 0 0 0 0 0 0 0 0 0 0 0 0 0 0 0 0 0 0 0 0 0 0 0 0 0 0 0 0 0 0 0 0 0 0\n"
          ],
          "name": "stderr"
        },
        {
          "output_type": "stream",
          "text": [
            "INFO:tensorflow:label: 1 (id = 1)\n"
          ],
          "name": "stdout"
        },
        {
          "output_type": "stream",
          "text": [
            "INFO:tensorflow:label: 1 (id = 1)\n"
          ],
          "name": "stderr"
        },
        {
          "output_type": "stream",
          "text": [
            "INFO:tensorflow:*** Example ***\n"
          ],
          "name": "stdout"
        },
        {
          "output_type": "stream",
          "text": [
            "INFO:tensorflow:*** Example ***\n"
          ],
          "name": "stderr"
        },
        {
          "output_type": "stream",
          "text": [
            "INFO:tensorflow:guid: None\n"
          ],
          "name": "stdout"
        },
        {
          "output_type": "stream",
          "text": [
            "INFO:tensorflow:guid: None\n"
          ],
          "name": "stderr"
        },
        {
          "output_type": "stream",
          "text": [
            "INFO:tensorflow:tokens: [CLS] former president bill clinton and his clinton health access initiative ( cha ##i ) distributed “ watered - down ” hiv / aids drugs to patients in sub - saharan africa , and “ likely increased ” the risks of mor ##bid ##ity and mortality , according to a draft congressional report obtained by the daily caller news foundation . the congressional report , titled , “ the clinton foundation and the india success story , ” was initiated by rep . marsh ##a blackburn , a tennessee republican and vice - chair of the house energy and commerce committee . the cha ##i program to help aids victims is considered one of the clinton foundation ’ s most important contributions and is probably its best [SEP]\n"
          ],
          "name": "stdout"
        },
        {
          "output_type": "stream",
          "text": [
            "INFO:tensorflow:tokens: [CLS] former president bill clinton and his clinton health access initiative ( cha ##i ) distributed “ watered - down ” hiv / aids drugs to patients in sub - saharan africa , and “ likely increased ” the risks of mor ##bid ##ity and mortality , according to a draft congressional report obtained by the daily caller news foundation . the congressional report , titled , “ the clinton foundation and the india success story , ” was initiated by rep . marsh ##a blackburn , a tennessee republican and vice - chair of the house energy and commerce committee . the cha ##i program to help aids victims is considered one of the clinton foundation ’ s most important contributions and is probably its best [SEP]\n"
          ],
          "name": "stderr"
        },
        {
          "output_type": "stream",
          "text": [
            "INFO:tensorflow:input_ids: 101 2280 2343 3021 7207 1998 2010 7207 2740 3229 6349 1006 15775 2072 1007 5500 1523 27129 1011 2091 1524 9820 1013 8387 5850 2000 5022 1999 4942 1011 24505 3088 1010 1998 1523 3497 3445 1524 1996 10831 1997 22822 17062 3012 1998 13356 1010 2429 2000 1037 4433 7740 3189 4663 2011 1996 3679 20587 2739 3192 1012 1996 7740 3189 1010 4159 1010 1523 1996 7207 3192 1998 1996 2634 3112 2466 1010 1524 2001 7531 2011 16360 1012 9409 2050 13934 1010 1037 5298 3951 1998 3580 1011 3242 1997 1996 2160 2943 1998 6236 2837 1012 1996 15775 2072 2565 2000 2393 8387 5694 2003 2641 2028 1997 1996 7207 3192 1521 1055 2087 2590 5857 1998 2003 2763 2049 2190 102\n"
          ],
          "name": "stdout"
        },
        {
          "output_type": "stream",
          "text": [
            "INFO:tensorflow:input_ids: 101 2280 2343 3021 7207 1998 2010 7207 2740 3229 6349 1006 15775 2072 1007 5500 1523 27129 1011 2091 1524 9820 1013 8387 5850 2000 5022 1999 4942 1011 24505 3088 1010 1998 1523 3497 3445 1524 1996 10831 1997 22822 17062 3012 1998 13356 1010 2429 2000 1037 4433 7740 3189 4663 2011 1996 3679 20587 2739 3192 1012 1996 7740 3189 1010 4159 1010 1523 1996 7207 3192 1998 1996 2634 3112 2466 1010 1524 2001 7531 2011 16360 1012 9409 2050 13934 1010 1037 5298 3951 1998 3580 1011 3242 1997 1996 2160 2943 1998 6236 2837 1012 1996 15775 2072 2565 2000 2393 8387 5694 2003 2641 2028 1997 1996 7207 3192 1521 1055 2087 2590 5857 1998 2003 2763 2049 2190 102\n"
          ],
          "name": "stderr"
        },
        {
          "output_type": "stream",
          "text": [
            "INFO:tensorflow:input_mask: 1 1 1 1 1 1 1 1 1 1 1 1 1 1 1 1 1 1 1 1 1 1 1 1 1 1 1 1 1 1 1 1 1 1 1 1 1 1 1 1 1 1 1 1 1 1 1 1 1 1 1 1 1 1 1 1 1 1 1 1 1 1 1 1 1 1 1 1 1 1 1 1 1 1 1 1 1 1 1 1 1 1 1 1 1 1 1 1 1 1 1 1 1 1 1 1 1 1 1 1 1 1 1 1 1 1 1 1 1 1 1 1 1 1 1 1 1 1 1 1 1 1 1 1 1 1 1 1\n"
          ],
          "name": "stdout"
        },
        {
          "output_type": "stream",
          "text": [
            "INFO:tensorflow:input_mask: 1 1 1 1 1 1 1 1 1 1 1 1 1 1 1 1 1 1 1 1 1 1 1 1 1 1 1 1 1 1 1 1 1 1 1 1 1 1 1 1 1 1 1 1 1 1 1 1 1 1 1 1 1 1 1 1 1 1 1 1 1 1 1 1 1 1 1 1 1 1 1 1 1 1 1 1 1 1 1 1 1 1 1 1 1 1 1 1 1 1 1 1 1 1 1 1 1 1 1 1 1 1 1 1 1 1 1 1 1 1 1 1 1 1 1 1 1 1 1 1 1 1 1 1 1 1 1 1\n"
          ],
          "name": "stderr"
        },
        {
          "output_type": "stream",
          "text": [
            "INFO:tensorflow:segment_ids: 0 0 0 0 0 0 0 0 0 0 0 0 0 0 0 0 0 0 0 0 0 0 0 0 0 0 0 0 0 0 0 0 0 0 0 0 0 0 0 0 0 0 0 0 0 0 0 0 0 0 0 0 0 0 0 0 0 0 0 0 0 0 0 0 0 0 0 0 0 0 0 0 0 0 0 0 0 0 0 0 0 0 0 0 0 0 0 0 0 0 0 0 0 0 0 0 0 0 0 0 0 0 0 0 0 0 0 0 0 0 0 0 0 0 0 0 0 0 0 0 0 0 0 0 0 0 0 0\n"
          ],
          "name": "stdout"
        },
        {
          "output_type": "stream",
          "text": [
            "INFO:tensorflow:segment_ids: 0 0 0 0 0 0 0 0 0 0 0 0 0 0 0 0 0 0 0 0 0 0 0 0 0 0 0 0 0 0 0 0 0 0 0 0 0 0 0 0 0 0 0 0 0 0 0 0 0 0 0 0 0 0 0 0 0 0 0 0 0 0 0 0 0 0 0 0 0 0 0 0 0 0 0 0 0 0 0 0 0 0 0 0 0 0 0 0 0 0 0 0 0 0 0 0 0 0 0 0 0 0 0 0 0 0 0 0 0 0 0 0 0 0 0 0 0 0 0 0 0 0 0 0 0 0 0 0\n"
          ],
          "name": "stderr"
        },
        {
          "output_type": "stream",
          "text": [
            "INFO:tensorflow:label: 1 (id = 1)\n"
          ],
          "name": "stdout"
        },
        {
          "output_type": "stream",
          "text": [
            "INFO:tensorflow:label: 1 (id = 1)\n"
          ],
          "name": "stderr"
        },
        {
          "output_type": "stream",
          "text": [
            "INFO:tensorflow:*** Example ***\n"
          ],
          "name": "stdout"
        },
        {
          "output_type": "stream",
          "text": [
            "INFO:tensorflow:*** Example ***\n"
          ],
          "name": "stderr"
        },
        {
          "output_type": "stream",
          "text": [
            "INFO:tensorflow:guid: None\n"
          ],
          "name": "stdout"
        },
        {
          "output_type": "stream",
          "text": [
            "INFO:tensorflow:guid: None\n"
          ],
          "name": "stderr"
        },
        {
          "output_type": "stream",
          "text": [
            "INFO:tensorflow:tokens: [CLS] after collapsing just before trying to step into her van after being removed from the 9 - 11 ceremony in new york city , hillary clinton emerged from her daughter ’ s apartment seeming like a new person . too new to be believed as a matter of fact , since the hillary at chelsea clinton ’ s apartment was noticeably well and energetic . even more unbelievable was the difference in appearance such as her being many pounds lighter , more vibrant , and apparently having a sort of drive through type rhino ##pl ##ast ##y pre ##formed in the short amount of time she was in the apartment . the nose on the hillary clinton double at the apartment is clearly different than all [SEP]\n"
          ],
          "name": "stdout"
        },
        {
          "output_type": "stream",
          "text": [
            "INFO:tensorflow:tokens: [CLS] after collapsing just before trying to step into her van after being removed from the 9 - 11 ceremony in new york city , hillary clinton emerged from her daughter ’ s apartment seeming like a new person . too new to be believed as a matter of fact , since the hillary at chelsea clinton ’ s apartment was noticeably well and energetic . even more unbelievable was the difference in appearance such as her being many pounds lighter , more vibrant , and apparently having a sort of drive through type rhino ##pl ##ast ##y pre ##formed in the short amount of time she was in the apartment . the nose on the hillary clinton double at the apartment is clearly different than all [SEP]\n"
          ],
          "name": "stderr"
        },
        {
          "output_type": "stream",
          "text": [
            "INFO:tensorflow:input_ids: 101 2044 22724 2074 2077 2667 2000 3357 2046 2014 3158 2044 2108 3718 2013 1996 1023 1011 2340 5103 1999 2047 2259 2103 1010 18520 7207 6003 2013 2014 2684 1521 1055 4545 16064 2066 1037 2047 2711 1012 2205 2047 2000 2022 3373 2004 1037 3043 1997 2755 1010 2144 1996 18520 2012 9295 7207 1521 1055 4545 2001 25327 2092 1998 18114 1012 2130 2062 23653 2001 1996 4489 1999 3311 2107 2004 2014 2108 2116 7038 9442 1010 2062 17026 1010 1998 4593 2383 1037 4066 1997 3298 2083 2828 24091 24759 14083 2100 3653 29021 1999 1996 2460 3815 1997 2051 2016 2001 1999 1996 4545 1012 1996 4451 2006 1996 18520 7207 3313 2012 1996 4545 2003 4415 2367 2084 2035 102\n"
          ],
          "name": "stdout"
        },
        {
          "output_type": "stream",
          "text": [
            "INFO:tensorflow:input_ids: 101 2044 22724 2074 2077 2667 2000 3357 2046 2014 3158 2044 2108 3718 2013 1996 1023 1011 2340 5103 1999 2047 2259 2103 1010 18520 7207 6003 2013 2014 2684 1521 1055 4545 16064 2066 1037 2047 2711 1012 2205 2047 2000 2022 3373 2004 1037 3043 1997 2755 1010 2144 1996 18520 2012 9295 7207 1521 1055 4545 2001 25327 2092 1998 18114 1012 2130 2062 23653 2001 1996 4489 1999 3311 2107 2004 2014 2108 2116 7038 9442 1010 2062 17026 1010 1998 4593 2383 1037 4066 1997 3298 2083 2828 24091 24759 14083 2100 3653 29021 1999 1996 2460 3815 1997 2051 2016 2001 1999 1996 4545 1012 1996 4451 2006 1996 18520 7207 3313 2012 1996 4545 2003 4415 2367 2084 2035 102\n"
          ],
          "name": "stderr"
        },
        {
          "output_type": "stream",
          "text": [
            "INFO:tensorflow:input_mask: 1 1 1 1 1 1 1 1 1 1 1 1 1 1 1 1 1 1 1 1 1 1 1 1 1 1 1 1 1 1 1 1 1 1 1 1 1 1 1 1 1 1 1 1 1 1 1 1 1 1 1 1 1 1 1 1 1 1 1 1 1 1 1 1 1 1 1 1 1 1 1 1 1 1 1 1 1 1 1 1 1 1 1 1 1 1 1 1 1 1 1 1 1 1 1 1 1 1 1 1 1 1 1 1 1 1 1 1 1 1 1 1 1 1 1 1 1 1 1 1 1 1 1 1 1 1 1 1\n"
          ],
          "name": "stdout"
        },
        {
          "output_type": "stream",
          "text": [
            "INFO:tensorflow:input_mask: 1 1 1 1 1 1 1 1 1 1 1 1 1 1 1 1 1 1 1 1 1 1 1 1 1 1 1 1 1 1 1 1 1 1 1 1 1 1 1 1 1 1 1 1 1 1 1 1 1 1 1 1 1 1 1 1 1 1 1 1 1 1 1 1 1 1 1 1 1 1 1 1 1 1 1 1 1 1 1 1 1 1 1 1 1 1 1 1 1 1 1 1 1 1 1 1 1 1 1 1 1 1 1 1 1 1 1 1 1 1 1 1 1 1 1 1 1 1 1 1 1 1 1 1 1 1 1 1\n"
          ],
          "name": "stderr"
        },
        {
          "output_type": "stream",
          "text": [
            "INFO:tensorflow:segment_ids: 0 0 0 0 0 0 0 0 0 0 0 0 0 0 0 0 0 0 0 0 0 0 0 0 0 0 0 0 0 0 0 0 0 0 0 0 0 0 0 0 0 0 0 0 0 0 0 0 0 0 0 0 0 0 0 0 0 0 0 0 0 0 0 0 0 0 0 0 0 0 0 0 0 0 0 0 0 0 0 0 0 0 0 0 0 0 0 0 0 0 0 0 0 0 0 0 0 0 0 0 0 0 0 0 0 0 0 0 0 0 0 0 0 0 0 0 0 0 0 0 0 0 0 0 0 0 0 0\n"
          ],
          "name": "stdout"
        },
        {
          "output_type": "stream",
          "text": [
            "INFO:tensorflow:segment_ids: 0 0 0 0 0 0 0 0 0 0 0 0 0 0 0 0 0 0 0 0 0 0 0 0 0 0 0 0 0 0 0 0 0 0 0 0 0 0 0 0 0 0 0 0 0 0 0 0 0 0 0 0 0 0 0 0 0 0 0 0 0 0 0 0 0 0 0 0 0 0 0 0 0 0 0 0 0 0 0 0 0 0 0 0 0 0 0 0 0 0 0 0 0 0 0 0 0 0 0 0 0 0 0 0 0 0 0 0 0 0 0 0 0 0 0 0 0 0 0 0 0 0 0 0 0 0 0 0\n"
          ],
          "name": "stderr"
        },
        {
          "output_type": "stream",
          "text": [
            "INFO:tensorflow:label: 1 (id = 1)\n"
          ],
          "name": "stdout"
        },
        {
          "output_type": "stream",
          "text": [
            "INFO:tensorflow:label: 1 (id = 1)\n"
          ],
          "name": "stderr"
        },
        {
          "output_type": "stream",
          "text": [
            "INFO:tensorflow:*** Example ***\n"
          ],
          "name": "stdout"
        },
        {
          "output_type": "stream",
          "text": [
            "INFO:tensorflow:*** Example ***\n"
          ],
          "name": "stderr"
        },
        {
          "output_type": "stream",
          "text": [
            "INFO:tensorflow:guid: None\n"
          ],
          "name": "stdout"
        },
        {
          "output_type": "stream",
          "text": [
            "INFO:tensorflow:guid: None\n"
          ],
          "name": "stderr"
        },
        {
          "output_type": "stream",
          "text": [
            "INFO:tensorflow:tokens: [CLS] donald trump is , well , de ##pl ##ora ##ble . he ’ s suggested building a wall to keep invading horde ##s of brown - skinned “ rap ##ists ” and “ drug dealers ” from charging into the country , gotten on board with creating a national registry for muslims like hitler did with the jews , forcing said muslims to wear special identification badges , and even rounding them up into modern - day concentration camps as a “ temporary measure . ” he ’ s even suggested outright murdering the families of terrorists abroad : “ the other thing with the terrorists is you have to take out their families , when you get these terrorists , you have to take out [SEP]\n"
          ],
          "name": "stdout"
        },
        {
          "output_type": "stream",
          "text": [
            "INFO:tensorflow:tokens: [CLS] donald trump is , well , de ##pl ##ora ##ble . he ’ s suggested building a wall to keep invading horde ##s of brown - skinned “ rap ##ists ” and “ drug dealers ” from charging into the country , gotten on board with creating a national registry for muslims like hitler did with the jews , forcing said muslims to wear special identification badges , and even rounding them up into modern - day concentration camps as a “ temporary measure . ” he ’ s even suggested outright murdering the families of terrorists abroad : “ the other thing with the terrorists is you have to take out their families , when you get these terrorists , you have to take out [SEP]\n"
          ],
          "name": "stderr"
        },
        {
          "output_type": "stream",
          "text": [
            "INFO:tensorflow:input_ids: 101 6221 8398 2003 1010 2092 1010 2139 24759 6525 3468 1012 2002 1521 1055 4081 2311 1037 2813 2000 2562 17657 21038 2015 1997 2829 1011 19937 1523 9680 5130 1524 1998 1523 4319 16743 1524 2013 13003 2046 1996 2406 1010 5407 2006 2604 2007 4526 1037 2120 15584 2005 7486 2066 8042 2106 2007 1996 5181 1010 6932 2056 7486 2000 4929 2569 8720 23433 1010 1998 2130 26939 2068 2039 2046 2715 1011 2154 6693 7958 2004 1037 1523 5741 5468 1012 1524 2002 1521 1055 2130 4081 13848 21054 1996 2945 1997 15554 6917 1024 1523 1996 2060 2518 2007 1996 15554 2003 2017 2031 2000 2202 2041 2037 2945 1010 2043 2017 2131 2122 15554 1010 2017 2031 2000 2202 2041 102\n"
          ],
          "name": "stdout"
        },
        {
          "output_type": "stream",
          "text": [
            "INFO:tensorflow:input_ids: 101 6221 8398 2003 1010 2092 1010 2139 24759 6525 3468 1012 2002 1521 1055 4081 2311 1037 2813 2000 2562 17657 21038 2015 1997 2829 1011 19937 1523 9680 5130 1524 1998 1523 4319 16743 1524 2013 13003 2046 1996 2406 1010 5407 2006 2604 2007 4526 1037 2120 15584 2005 7486 2066 8042 2106 2007 1996 5181 1010 6932 2056 7486 2000 4929 2569 8720 23433 1010 1998 2130 26939 2068 2039 2046 2715 1011 2154 6693 7958 2004 1037 1523 5741 5468 1012 1524 2002 1521 1055 2130 4081 13848 21054 1996 2945 1997 15554 6917 1024 1523 1996 2060 2518 2007 1996 15554 2003 2017 2031 2000 2202 2041 2037 2945 1010 2043 2017 2131 2122 15554 1010 2017 2031 2000 2202 2041 102\n"
          ],
          "name": "stderr"
        },
        {
          "output_type": "stream",
          "text": [
            "INFO:tensorflow:input_mask: 1 1 1 1 1 1 1 1 1 1 1 1 1 1 1 1 1 1 1 1 1 1 1 1 1 1 1 1 1 1 1 1 1 1 1 1 1 1 1 1 1 1 1 1 1 1 1 1 1 1 1 1 1 1 1 1 1 1 1 1 1 1 1 1 1 1 1 1 1 1 1 1 1 1 1 1 1 1 1 1 1 1 1 1 1 1 1 1 1 1 1 1 1 1 1 1 1 1 1 1 1 1 1 1 1 1 1 1 1 1 1 1 1 1 1 1 1 1 1 1 1 1 1 1 1 1 1 1\n"
          ],
          "name": "stdout"
        },
        {
          "output_type": "stream",
          "text": [
            "INFO:tensorflow:input_mask: 1 1 1 1 1 1 1 1 1 1 1 1 1 1 1 1 1 1 1 1 1 1 1 1 1 1 1 1 1 1 1 1 1 1 1 1 1 1 1 1 1 1 1 1 1 1 1 1 1 1 1 1 1 1 1 1 1 1 1 1 1 1 1 1 1 1 1 1 1 1 1 1 1 1 1 1 1 1 1 1 1 1 1 1 1 1 1 1 1 1 1 1 1 1 1 1 1 1 1 1 1 1 1 1 1 1 1 1 1 1 1 1 1 1 1 1 1 1 1 1 1 1 1 1 1 1 1 1\n"
          ],
          "name": "stderr"
        },
        {
          "output_type": "stream",
          "text": [
            "INFO:tensorflow:segment_ids: 0 0 0 0 0 0 0 0 0 0 0 0 0 0 0 0 0 0 0 0 0 0 0 0 0 0 0 0 0 0 0 0 0 0 0 0 0 0 0 0 0 0 0 0 0 0 0 0 0 0 0 0 0 0 0 0 0 0 0 0 0 0 0 0 0 0 0 0 0 0 0 0 0 0 0 0 0 0 0 0 0 0 0 0 0 0 0 0 0 0 0 0 0 0 0 0 0 0 0 0 0 0 0 0 0 0 0 0 0 0 0 0 0 0 0 0 0 0 0 0 0 0 0 0 0 0 0 0\n"
          ],
          "name": "stdout"
        },
        {
          "output_type": "stream",
          "text": [
            "INFO:tensorflow:segment_ids: 0 0 0 0 0 0 0 0 0 0 0 0 0 0 0 0 0 0 0 0 0 0 0 0 0 0 0 0 0 0 0 0 0 0 0 0 0 0 0 0 0 0 0 0 0 0 0 0 0 0 0 0 0 0 0 0 0 0 0 0 0 0 0 0 0 0 0 0 0 0 0 0 0 0 0 0 0 0 0 0 0 0 0 0 0 0 0 0 0 0 0 0 0 0 0 0 0 0 0 0 0 0 0 0 0 0 0 0 0 0 0 0 0 0 0 0 0 0 0 0 0 0 0 0 0 0 0 0\n"
          ],
          "name": "stderr"
        },
        {
          "output_type": "stream",
          "text": [
            "INFO:tensorflow:label: 1 (id = 1)\n"
          ],
          "name": "stdout"
        },
        {
          "output_type": "stream",
          "text": [
            "INFO:tensorflow:label: 1 (id = 1)\n"
          ],
          "name": "stderr"
        },
        {
          "output_type": "stream",
          "text": [
            "INFO:tensorflow:*** Example ***\n"
          ],
          "name": "stdout"
        },
        {
          "output_type": "stream",
          "text": [
            "INFO:tensorflow:*** Example ***\n"
          ],
          "name": "stderr"
        },
        {
          "output_type": "stream",
          "text": [
            "INFO:tensorflow:guid: None\n"
          ],
          "name": "stdout"
        },
        {
          "output_type": "stream",
          "text": [
            "INFO:tensorflow:guid: None\n"
          ],
          "name": "stderr"
        },
        {
          "output_type": "stream",
          "text": [
            "INFO:tensorflow:tokens: [CLS] website is down for maintenance [SEP]\n"
          ],
          "name": "stdout"
        },
        {
          "output_type": "stream",
          "text": [
            "INFO:tensorflow:tokens: [CLS] website is down for maintenance [SEP]\n"
          ],
          "name": "stderr"
        },
        {
          "output_type": "stream",
          "text": [
            "INFO:tensorflow:input_ids: 101 4037 2003 2091 2005 6032 102 0 0 0 0 0 0 0 0 0 0 0 0 0 0 0 0 0 0 0 0 0 0 0 0 0 0 0 0 0 0 0 0 0 0 0 0 0 0 0 0 0 0 0 0 0 0 0 0 0 0 0 0 0 0 0 0 0 0 0 0 0 0 0 0 0 0 0 0 0 0 0 0 0 0 0 0 0 0 0 0 0 0 0 0 0 0 0 0 0 0 0 0 0 0 0 0 0 0 0 0 0 0 0 0 0 0 0 0 0 0 0 0 0 0 0 0 0 0 0 0 0\n"
          ],
          "name": "stdout"
        },
        {
          "output_type": "stream",
          "text": [
            "INFO:tensorflow:input_ids: 101 4037 2003 2091 2005 6032 102 0 0 0 0 0 0 0 0 0 0 0 0 0 0 0 0 0 0 0 0 0 0 0 0 0 0 0 0 0 0 0 0 0 0 0 0 0 0 0 0 0 0 0 0 0 0 0 0 0 0 0 0 0 0 0 0 0 0 0 0 0 0 0 0 0 0 0 0 0 0 0 0 0 0 0 0 0 0 0 0 0 0 0 0 0 0 0 0 0 0 0 0 0 0 0 0 0 0 0 0 0 0 0 0 0 0 0 0 0 0 0 0 0 0 0 0 0 0 0 0 0\n"
          ],
          "name": "stderr"
        },
        {
          "output_type": "stream",
          "text": [
            "INFO:tensorflow:input_mask: 1 1 1 1 1 1 1 0 0 0 0 0 0 0 0 0 0 0 0 0 0 0 0 0 0 0 0 0 0 0 0 0 0 0 0 0 0 0 0 0 0 0 0 0 0 0 0 0 0 0 0 0 0 0 0 0 0 0 0 0 0 0 0 0 0 0 0 0 0 0 0 0 0 0 0 0 0 0 0 0 0 0 0 0 0 0 0 0 0 0 0 0 0 0 0 0 0 0 0 0 0 0 0 0 0 0 0 0 0 0 0 0 0 0 0 0 0 0 0 0 0 0 0 0 0 0 0 0\n"
          ],
          "name": "stdout"
        },
        {
          "output_type": "stream",
          "text": [
            "INFO:tensorflow:input_mask: 1 1 1 1 1 1 1 0 0 0 0 0 0 0 0 0 0 0 0 0 0 0 0 0 0 0 0 0 0 0 0 0 0 0 0 0 0 0 0 0 0 0 0 0 0 0 0 0 0 0 0 0 0 0 0 0 0 0 0 0 0 0 0 0 0 0 0 0 0 0 0 0 0 0 0 0 0 0 0 0 0 0 0 0 0 0 0 0 0 0 0 0 0 0 0 0 0 0 0 0 0 0 0 0 0 0 0 0 0 0 0 0 0 0 0 0 0 0 0 0 0 0 0 0 0 0 0 0\n"
          ],
          "name": "stderr"
        },
        {
          "output_type": "stream",
          "text": [
            "INFO:tensorflow:segment_ids: 0 0 0 0 0 0 0 0 0 0 0 0 0 0 0 0 0 0 0 0 0 0 0 0 0 0 0 0 0 0 0 0 0 0 0 0 0 0 0 0 0 0 0 0 0 0 0 0 0 0 0 0 0 0 0 0 0 0 0 0 0 0 0 0 0 0 0 0 0 0 0 0 0 0 0 0 0 0 0 0 0 0 0 0 0 0 0 0 0 0 0 0 0 0 0 0 0 0 0 0 0 0 0 0 0 0 0 0 0 0 0 0 0 0 0 0 0 0 0 0 0 0 0 0 0 0 0 0\n"
          ],
          "name": "stdout"
        },
        {
          "output_type": "stream",
          "text": [
            "INFO:tensorflow:segment_ids: 0 0 0 0 0 0 0 0 0 0 0 0 0 0 0 0 0 0 0 0 0 0 0 0 0 0 0 0 0 0 0 0 0 0 0 0 0 0 0 0 0 0 0 0 0 0 0 0 0 0 0 0 0 0 0 0 0 0 0 0 0 0 0 0 0 0 0 0 0 0 0 0 0 0 0 0 0 0 0 0 0 0 0 0 0 0 0 0 0 0 0 0 0 0 0 0 0 0 0 0 0 0 0 0 0 0 0 0 0 0 0 0 0 0 0 0 0 0 0 0 0 0 0 0 0 0 0 0\n"
          ],
          "name": "stderr"
        },
        {
          "output_type": "stream",
          "text": [
            "INFO:tensorflow:label: 1 (id = 1)\n"
          ],
          "name": "stdout"
        },
        {
          "output_type": "stream",
          "text": [
            "INFO:tensorflow:label: 1 (id = 1)\n"
          ],
          "name": "stderr"
        }
      ]
    },
    {
      "cell_type": "code",
      "metadata": {
        "id": "C_Ftx1toYkFc",
        "colab": {
          "base_uri": "https://localhost:8080/"
        },
        "outputId": "6db1859d-3b1e-4927-896a-cede2400dbdc"
      },
      "source": [
        "features =  sp.csr_matrix(feature_np, dtype=float).tolil()\n",
        "adj =  pd.read_csv(\"/content/drive/MyDrive/Colab_Notebooks/DL_final/news_news_bf_adjacency_matrix.csv\", header=None).values\n",
        "y_train, y_val, y_test, train_mask, val_mask, test_mask =  split_data()\n",
        "\n",
        "features=sp.csr_matrix(features)\n",
        "\n",
        "print(features)\n",
        "features = preprocess_features(features)\n",
        "\n",
        "\n",
        "\n",
        "label_encoder = LabelEncoder()\n",
        "label = label_encoder.fit_transform(label)\n",
        "label = tf.keras.utils.to_categorical(label)\n",
        "classes = label_encoder.classes_"
      ],
      "execution_count": 6,
      "outputs": [
        {
          "output_type": "stream",
          "text": [
            "  (0, 0)\t101.0\n",
            "  (0, 1)\t1045.0\n",
            "  (0, 2)\t8271.0\n",
            "  (0, 3)\t2039.0\n",
            "  (0, 4)\t2023.0\n",
            "  (0, 5)\t2851.0\n",
            "  (0, 6)\t2000.0\n",
            "  (0, 7)\t2424.0\n",
            "  (0, 8)\t1037.0\n",
            "  (0, 9)\t8386.0\n",
            "  (0, 10)\t1997.0\n",
            "  (0, 11)\t2023.0\n",
            "  (0, 12)\t17653.0\n",
            "  (0, 13)\t22055.0\n",
            "  (0, 14)\t2035.0\n",
            "  (0, 15)\t2058.0\n",
            "  (0, 16)\t2026.0\n",
            "  (0, 17)\t2739.0\n",
            "  (0, 18)\t5438.0\n",
            "  (0, 19)\t1024.0\n",
            "  (0, 20)\t3021.0\n",
            "  (0, 21)\t7207.0\n",
            "  (0, 22)\t1024.0\n",
            "  (0, 23)\t1520.0\n",
            "  (0, 24)\t3019.0\n",
            "  :\t:\n",
            "  (181, 103)\t2466.0\n",
            "  (181, 104)\t2506.0\n",
            "  (181, 105)\t2917.0\n",
            "  (181, 106)\t3398.0\n",
            "  (181, 107)\t1010.0\n",
            "  (181, 108)\t3398.0\n",
            "  (181, 109)\t1010.0\n",
            "  (181, 110)\t3398.0\n",
            "  (181, 111)\t1010.0\n",
            "  (181, 112)\t2009.0\n",
            "  (181, 113)\t1521.0\n",
            "  (181, 114)\t1055.0\n",
            "  (181, 115)\t1037.0\n",
            "  (181, 116)\t2502.0\n",
            "  (181, 117)\t2305.0\n",
            "  (181, 118)\t2005.0\n",
            "  (181, 119)\t18520.0\n",
            "  (181, 120)\t7207.0\n",
            "  (181, 121)\t2205.0\n",
            "  (181, 122)\t1012.0\n",
            "  (181, 123)\t2016.0\n",
            "  (181, 124)\t1521.0\n",
            "  (181, 125)\t1055.0\n",
            "  (181, 126)\t2288.0\n",
            "  (181, 127)\t102.0\n"
          ],
          "name": "stdout"
        }
      ]
    },
    {
      "cell_type": "code",
      "metadata": {
        "id": "bUvS3KfsJ17x"
      },
      "source": [
        "# print(label)"
      ],
      "execution_count": null,
      "outputs": []
    },
    {
      "cell_type": "code",
      "metadata": {
        "id": "j-SPbqDjfFBj"
      },
      "source": [
        "y_train  = np.asarray(y_train)\n",
        "y_val = np.asarray(y_val)\n",
        "y_test = np.asarray(y_test)\n",
        "train_mask  = np.asarray(train_mask)\n",
        "val_mask  = np.asarray(val_mask)\n",
        "test_mask  = np.asarray(test_mask)\n",
        "label = np.asarray(label)"
      ],
      "execution_count": 8,
      "outputs": []
    },
    {
      "cell_type": "code",
      "metadata": {
        "colab": {
          "base_uri": "https://localhost:8080/"
        },
        "id": "tjkY5SFgjzcp",
        "outputId": "3440b064-e845-4cab-be67-f73d326e7628"
      },
      "source": [
        "# np.isnan(y_train.data).any()\n",
        "# np.isnan(y_val.data).any()\n",
        "np.isnan(y_test.data).any()"
      ],
      "execution_count": 9,
      "outputs": [
        {
          "output_type": "execute_result",
          "data": {
            "text/plain": [
              "False"
            ]
          },
          "metadata": {
            "tags": []
          },
          "execution_count": 9
        }
      ]
    },
    {
      "cell_type": "code",
      "metadata": {
        "colab": {
          "base_uri": "https://localhost:8080/"
        },
        "id": "XXS2-Ig7j1xf",
        "outputId": "d51598aa-ab57-4719-ecbb-44b4d0050930"
      },
      "source": [
        "train_mask.shape"
      ],
      "execution_count": 10,
      "outputs": [
        {
          "output_type": "execute_result",
          "data": {
            "text/plain": [
              "(182,)"
            ]
          },
          "metadata": {
            "tags": []
          },
          "execution_count": 10
        }
      ]
    },
    {
      "cell_type": "code",
      "metadata": {
        "id": "Ua1lEpZtXPGi"
      },
      "source": [
        "from __future__ import division\n",
        "from __future__ import print_function\n",
        "from tensorflow.keras.callbacks import EarlyStopping\n",
        "from tensorflow.keras.layers import Input, Dropout, Dense\n",
        "from tensorflow.keras.models import Model\n",
        "from tensorflow.keras.optimizers import Adam, SGD\n",
        "from tensorflow.keras.regularizers import l2\n",
        "import time\n",
        "import tensorflow as tf \n",
        "from spektral.layers import GCNConv, GATConv, AGNNConv\n",
        "# from  utils import *\n",
        "# from models import GCN, MLP\n",
        "\n",
        "# Set random seed\n",
        "seed = 123\n",
        "np.random.seed(seed)\n",
        "tf.random.set_seed(seed)\n",
        "\n",
        "epochs = 25\n",
        "dropout = 0.3\n",
        "weight_decay = 2e-5\n",
        "early_stopping = 10\n",
        "learning_rate = 5e-3\n",
        "num_nodes = features.shape[0]\n",
        "# num_nodes = adj.shape[0]\n",
        "l2_reg = 5e-6\n",
        "num_classes = 2\n",
        "# 'labels': tf.placeholder(tf.float32, shape=(None, y_train.shape[1])),\n"
      ],
      "execution_count": 11,
      "outputs": []
    },
    {
      "cell_type": "code",
      "metadata": {
        "colab": {
          "base_uri": "https://localhost:8080/"
        },
        "id": "R7icSaxpqSpF",
        "outputId": "7d2dcae9-3fee-4651-88c6-742e772582b9"
      },
      "source": [
        "features.shape[1]"
      ],
      "execution_count": 12,
      "outputs": [
        {
          "output_type": "execute_result",
          "data": {
            "text/plain": [
              "129"
            ]
          },
          "metadata": {
            "tags": []
          },
          "execution_count": 12
        }
      ]
    },
    {
      "cell_type": "markdown",
      "metadata": {
        "id": "lDjnJPaKNkma"
      },
      "source": [
        "##GCN1"
      ]
    },
    {
      "cell_type": "code",
      "metadata": {
        "id": "ZOeuJmf8r1Pu"
      },
      "source": [
        "adj_matrix = GCNConv.preprocess(adj).astype('f4')\n",
        "adj_matrix[np.isinf(adj_matrix)] = 1"
      ],
      "execution_count": 40,
      "outputs": []
    },
    {
      "cell_type": "code",
      "metadata": {
        "colab": {
          "base_uri": "https://localhost:8080/"
        },
        "id": "nCs0MBEQm-ZE",
        "outputId": "5066da4c-82d6-49b3-c496-71eac4fdc6ee"
      },
      "source": [
        "\n",
        "x_inputs = Input(shape = features.shape[1])\n",
        "a_inputs = Input((num_nodes,), sparse=True, dtype=tf.float32)\n",
        "do_1 = Dropout(dropout)(x_inputs)\n",
        "gc_1 = GCNConv(16,\n",
        "               activation='relu',\n",
        "               kernel_regularizer=l2(l2_reg),\n",
        "               use_bias=False)([do_1, a_inputs])\n",
        " \n",
        "do_2 = Dropout(dropout)(gc_1)\n",
        "gc_2 = GCNConv(16,\n",
        "               activation='relu',\n",
        "               kernel_regularizer=l2(l2_reg),\n",
        "               use_bias=False)([do_2, a_inputs])\n",
        " \n",
        "output =  Dense(units=num_classes, activation='softmax')(gc_2)\n",
        "model = Model(inputs=[x_inputs, a_inputs], outputs=output)\n",
        "optimizer = Adam(lr=learning_rate,clipnorm=1.0)\n",
        "model.compile(optimizer=optimizer,\n",
        "              loss='categorical_crossentropy',#binary_crossentropy\n",
        "              weighted_metrics=['acc'])\n",
        "model.summary()\n",
        "\n"
      ],
      "execution_count": 41,
      "outputs": [
        {
          "output_type": "stream",
          "text": [
            "Model: \"functional_11\"\n",
            "__________________________________________________________________________________________________\n",
            "Layer (type)                    Output Shape         Param #     Connected to                     \n",
            "==================================================================================================\n",
            "input_11 (InputLayer)           [(None, 129)]        0                                            \n",
            "__________________________________________________________________________________________________\n",
            "dropout_10 (Dropout)            (None, 129)          0           input_11[0][0]                   \n",
            "__________________________________________________________________________________________________\n",
            "input_12 (InputLayer)           [(None, 182)]        0                                            \n",
            "__________________________________________________________________________________________________\n",
            "gcn_conv_4 (GCNConv)            (None, 16)           2064        dropout_10[0][0]                 \n",
            "                                                                 input_12[0][0]                   \n",
            "__________________________________________________________________________________________________\n",
            "dropout_11 (Dropout)            (None, 16)           0           gcn_conv_4[0][0]                 \n",
            "__________________________________________________________________________________________________\n",
            "gcn_conv_5 (GCNConv)            (None, 16)           256         dropout_11[0][0]                 \n",
            "                                                                 input_12[0][0]                   \n",
            "__________________________________________________________________________________________________\n",
            "dense_4 (Dense)                 (None, 2)            34          gcn_conv_5[0][0]                 \n",
            "==================================================================================================\n",
            "Total params: 2,354\n",
            "Trainable params: 2,354\n",
            "Non-trainable params: 0\n",
            "__________________________________________________________________________________________________\n"
          ],
          "name": "stdout"
        }
      ]
    },
    {
      "cell_type": "code",
      "metadata": {
        "colab": {
          "base_uri": "https://localhost:8080/"
        },
        "id": "3v-rtV7Gso6J",
        "outputId": "aa6f17d7-d467-40d8-cfe3-02257227aa87"
      },
      "source": [
        "# Train model\n",
        "validation_data = ([features, adj_matrix], label, val_mask)\n",
        "history = model.fit([features, adj_matrix],\n",
        "          label,\n",
        "          sample_weight=train_mask,\n",
        "          epochs=epochs,\n",
        "          batch_size=num_nodes,\n",
        "          validation_data=validation_data,\n",
        "          shuffle=False,\n",
        "          ) \n"
      ],
      "execution_count": 43,
      "outputs": [
        {
          "output_type": "stream",
          "text": [
            "Epoch 1/25\n",
            "1/1 [==============================] - 0s 58ms/step - loss: 0.4108 - acc: 0.5138 - val_loss: 0.1330 - val_acc: 0.4444\n",
            "Epoch 2/25\n",
            "1/1 [==============================] - 0s 18ms/step - loss: 0.4110 - acc: 0.5229 - val_loss: 0.1328 - val_acc: 0.5000\n",
            "Epoch 3/25\n",
            "1/1 [==============================] - 0s 19ms/step - loss: 0.4098 - acc: 0.5321 - val_loss: 0.1327 - val_acc: 0.5000\n",
            "Epoch 4/25\n",
            "1/1 [==============================] - 0s 18ms/step - loss: 0.4099 - acc: 0.5413 - val_loss: 0.1325 - val_acc: 0.5000\n",
            "Epoch 5/25\n",
            "1/1 [==============================] - 0s 18ms/step - loss: 0.4097 - acc: 0.5321 - val_loss: 0.1324 - val_acc: 0.5000\n",
            "Epoch 6/25\n",
            "1/1 [==============================] - 0s 19ms/step - loss: 0.4103 - acc: 0.5413 - val_loss: 0.1323 - val_acc: 0.5000\n",
            "Epoch 7/25\n",
            "1/1 [==============================] - 0s 19ms/step - loss: 0.4079 - acc: 0.5780 - val_loss: 0.1323 - val_acc: 0.5000\n",
            "Epoch 8/25\n",
            "1/1 [==============================] - 0s 19ms/step - loss: 0.4066 - acc: 0.6881 - val_loss: 0.1322 - val_acc: 0.5000\n",
            "Epoch 9/25\n",
            "1/1 [==============================] - 0s 19ms/step - loss: 0.4074 - acc: 0.5505 - val_loss: 0.1322 - val_acc: 0.5000\n",
            "Epoch 10/25\n",
            "1/1 [==============================] - 0s 19ms/step - loss: 0.4081 - acc: 0.5505 - val_loss: 0.1322 - val_acc: 0.4722\n",
            "Epoch 11/25\n",
            "1/1 [==============================] - 0s 18ms/step - loss: 0.4068 - acc: 0.5413 - val_loss: 0.1322 - val_acc: 0.4722\n",
            "Epoch 12/25\n",
            "1/1 [==============================] - 0s 23ms/step - loss: 0.4042 - acc: 0.6147 - val_loss: 0.1322 - val_acc: 0.4722\n",
            "Epoch 13/25\n",
            "1/1 [==============================] - 0s 29ms/step - loss: 0.4041 - acc: 0.5229 - val_loss: 0.1320 - val_acc: 0.4722\n",
            "Epoch 14/25\n",
            "1/1 [==============================] - 0s 23ms/step - loss: 0.4027 - acc: 0.5321 - val_loss: 0.1317 - val_acc: 0.5000\n",
            "Epoch 15/25\n",
            "1/1 [==============================] - 0s 23ms/step - loss: 0.4030 - acc: 0.5963 - val_loss: 0.1314 - val_acc: 0.5000\n",
            "Epoch 16/25\n",
            "1/1 [==============================] - 0s 21ms/step - loss: 0.4019 - acc: 0.5505 - val_loss: 0.1310 - val_acc: 0.6389\n",
            "Epoch 17/25\n",
            "1/1 [==============================] - 0s 25ms/step - loss: 0.4032 - acc: 0.7431 - val_loss: 0.1306 - val_acc: 0.6389\n",
            "Epoch 18/25\n",
            "1/1 [==============================] - 0s 19ms/step - loss: 0.4021 - acc: 0.7523 - val_loss: 0.1303 - val_acc: 0.7500\n",
            "Epoch 19/25\n",
            "1/1 [==============================] - 0s 19ms/step - loss: 0.3972 - acc: 0.7523 - val_loss: 0.1299 - val_acc: 0.7222\n",
            "Epoch 20/25\n",
            "1/1 [==============================] - 0s 21ms/step - loss: 0.4002 - acc: 0.7523 - val_loss: 0.1296 - val_acc: 0.7500\n",
            "Epoch 21/25\n",
            "1/1 [==============================] - 0s 21ms/step - loss: 0.3974 - acc: 0.7982 - val_loss: 0.1293 - val_acc: 0.7778\n",
            "Epoch 22/25\n",
            "1/1 [==============================] - 0s 21ms/step - loss: 0.3999 - acc: 0.7982 - val_loss: 0.1291 - val_acc: 0.7500\n",
            "Epoch 23/25\n",
            "1/1 [==============================] - 0s 20ms/step - loss: 0.3955 - acc: 0.7523 - val_loss: 0.1290 - val_acc: 0.7500\n",
            "Epoch 24/25\n",
            "1/1 [==============================] - 0s 22ms/step - loss: 0.3965 - acc: 0.7339 - val_loss: 0.1288 - val_acc: 0.7500\n",
            "Epoch 25/25\n",
            "1/1 [==============================] - 0s 21ms/step - loss: 0.3990 - acc: 0.7339 - val_loss: 0.1285 - val_acc: 0.7500\n"
          ],
          "name": "stdout"
        }
      ]
    },
    {
      "cell_type": "code",
      "metadata": {
        "colab": {
          "base_uri": "https://localhost:8080/",
          "height": 282
        },
        "id": "YXLrt1wkQK4u",
        "outputId": "c7b7ebaf-34cc-42b4-db0a-5c43857cb369"
      },
      "source": [
        "import matplotlib \n",
        "from matplotlib import pyplot\n",
        "pyplot.plot(history.history['val_acc'], label='val_accu')\n",
        "pyplot.plot(history.history['acc'],label = 'train_accu') \n",
        "\n",
        "pyplot.legend()"
      ],
      "execution_count": 44,
      "outputs": [
        {
          "output_type": "execute_result",
          "data": {
            "text/plain": [
              "<matplotlib.legend.Legend at 0x7f2d9e5cbc88>"
            ]
          },
          "metadata": {
            "tags": []
          },
          "execution_count": 44
        },
        {
          "output_type": "display_data",
          "data": {
            "image/png": "[encoded data removed]",
            "text/plain": [
              "<Figure size 432x288 with 1 Axes>"
            ]
          },
          "metadata": {
            "tags": [],
            "needs_background": "light"
          }
        }
      ]
    },
    {
      "cell_type": "code",
      "metadata": {
        "colab": {
          "base_uri": "https://localhost:8080/"
        },
        "id": "5DRuXZ_faQ_b",
        "outputId": "7304f291-c195-4ff4-ff8d-dca3586d670a"
      },
      "source": [
        "max(history.history['val_acc'])"
      ],
      "execution_count": 45,
      "outputs": [
        {
          "output_type": "execute_result",
          "data": {
            "text/plain": [
              "0.7777777910232544"
            ]
          },
          "metadata": {
            "tags": []
          },
          "execution_count": 45
        }
      ]
    },
    {
      "cell_type": "code",
      "metadata": {
        "colab": {
          "base_uri": "https://localhost:8080/",
          "height": 282
        },
        "id": "eHQ4SJT7ZcCc",
        "outputId": "a5c13f43-5717-4068-9be0-bfaeb21c20c6"
      },
      "source": [
        "\n",
        "pyplot.plot(history.history['loss'],label = 'train_loss') \n",
        " \n",
        "pyplot.legend()"
      ],
      "execution_count": 47,
      "outputs": [
        {
          "output_type": "execute_result",
          "data": {
            "text/plain": [
              "<matplotlib.legend.Legend at 0x7f2d9e5a3da0>"
            ]
          },
          "metadata": {
            "tags": []
          },
          "execution_count": 47
        },
        {
          "output_type": "display_data",
          "data": {
            "image/png": "[encoded data removed]",
            "text/plain": [
              "<Figure size 432x288 with 1 Axes>"
            ]
          },
          "metadata": {
            "tags": [],
            "needs_background": "light"
          }
        }
      ]
    },
    {
      "cell_type": "code",
      "metadata": {
        "colab": {
          "base_uri": "https://localhost:8080/",
          "height": 282
        },
        "id": "Wtu-LszTUNtr",
        "outputId": "f195abb0-c01d-4a82-c0ef-088f176885b9"
      },
      "source": [
        "\n",
        "pyplot.plot(history.history['val_loss'], label='val_loss')\n",
        "\n",
        "pyplot.legend()"
      ],
      "execution_count": 48,
      "outputs": [
        {
          "output_type": "execute_result",
          "data": {
            "text/plain": [
              "<matplotlib.legend.Legend at 0x7f2d9e511630>"
            ]
          },
          "metadata": {
            "tags": []
          },
          "execution_count": 48
        },
        {
          "output_type": "display_data",
          "data": {
            "image/png": "[encoded data removed]",
            "text/plain": [
              "<Figure size 432x288 with 1 Axes>"
            ]
          },
          "metadata": {
            "tags": [],
            "needs_background": "light"
          }
        }
      ]
    },
    {
      "cell_type": "code",
      "metadata": {
        "id": "SArGHCgVboGV"
      },
      "source": [
        ""
      ],
      "execution_count": 17,
      "outputs": []
    },
    {
      "cell_type": "markdown",
      "metadata": {
        "id": "dPNnM-mr_ggM"
      },
      "source": [
        "##GAT"
      ]
    },
    {
      "cell_type": "code",
      "metadata": {
        "id": "QMR7Pz80A8VF"
      },
      "source": [
        "adj_matrix = GATConv.preprocess(adj).astype('f4')\n",
        "adj_matrix[np.isinf(adj_matrix)] = 1"
      ],
      "execution_count": 60,
      "outputs": []
    },
    {
      "cell_type": "code",
      "metadata": {
        "id": "d4_mPx7O_i6D"
      },
      "source": [
        "x_inputs = Input(shape = features.shape[1])\n",
        "a_inputs = Input((num_nodes,), sparse=True, dtype=tf.float32)\n",
        "\n",
        "do_1 = Dropout(dropout)(x_inputs)\n",
        "gc_1 = GATConv(12,\n",
        "               attn_heads=8,\n",
        "               concat_heads=True,\n",
        "               dropout_rate=dropout,\n",
        "               activation='elu',\n",
        "               kernel_regularizer=l2(l2_reg),\n",
        "               attn_kernel_regularizer=l2(l2_reg)\n",
        "               )([do_1, a_inputs])\n",
        "do_2 = Dropout(dropout)(gc_1)\n",
        "gc_2 = GATConv(num_classes,\n",
        "               attn_heads=1,\n",
        "               concat_heads=False,\n",
        "               dropout_rate=dropout,\n",
        "               activation='elu',\n",
        "               kernel_regularizer=l2(l2_reg),\n",
        "               attn_kernel_regularizer=l2(l2_reg)\n",
        "               )([do_2, a_inputs])\n",
        "output =  Dense(units=num_classes, activation='softmax')(gc_2)"
      ],
      "execution_count": 61,
      "outputs": []
    },
    {
      "cell_type": "code",
      "metadata": {
        "colab": {
          "base_uri": "https://localhost:8080/"
        },
        "id": "EQVJNmq9APkI",
        "outputId": "40db0d08-827f-4fe7-aee9-242617831f1a"
      },
      "source": [
        "model = Model(inputs=[x_inputs, a_inputs], outputs=output)\n",
        "optimizer = Adam(lr=learning_rate)\n",
        "model.compile(optimizer=optimizer,\n",
        "              loss='categorical_crossentropy',\n",
        "              weighted_metrics=['acc'])\n",
        "model.summary()"
      ],
      "execution_count": 62,
      "outputs": [
        {
          "output_type": "stream",
          "text": [
            "Model: \"functional_15\"\n",
            "__________________________________________________________________________________________________\n",
            "Layer (type)                    Output Shape         Param #     Connected to                     \n",
            "==================================================================================================\n",
            "input_15 (InputLayer)           [(None, 129)]        0                                            \n",
            "__________________________________________________________________________________________________\n",
            "dropout_14 (Dropout)            (None, 129)          0           input_15[0][0]                   \n",
            "__________________________________________________________________________________________________\n",
            "input_16 (InputLayer)           [(None, 182)]        0                                            \n",
            "__________________________________________________________________________________________________\n",
            "gat_conv_8 (GATConv)            (None, 96)           12576       dropout_14[0][0]                 \n",
            "                                                                 input_16[0][0]                   \n",
            "__________________________________________________________________________________________________\n",
            "dropout_15 (Dropout)            (None, 96)           0           gat_conv_8[0][0]                 \n",
            "__________________________________________________________________________________________________\n",
            "gat_conv_9 (GATConv)            (None, 2)            196         dropout_15[0][0]                 \n",
            "                                                                 input_16[0][0]                   \n",
            "__________________________________________________________________________________________________\n",
            "dense_6 (Dense)                 (None, 2)            6           gat_conv_9[0][0]                 \n",
            "==================================================================================================\n",
            "Total params: 12,778\n",
            "Trainable params: 12,778\n",
            "Non-trainable params: 0\n",
            "__________________________________________________________________________________________________\n"
          ],
          "name": "stdout"
        }
      ]
    },
    {
      "cell_type": "code",
      "metadata": {
        "colab": {
          "base_uri": "https://localhost:8080/"
        },
        "id": "uqlP8-StAWwb",
        "outputId": "06678ae3-ed59-4468-900d-6b5467b19fd2"
      },
      "source": [
        "validation_data = ([features, adj_matrix], label, val_mask)\n",
        "history1 = model.fit([features, adj_matrix],\n",
        "          label,\n",
        "          sample_weight=train_mask,\n",
        "          epochs=epochs,\n",
        "          batch_size=num_nodes,\n",
        "          validation_data=validation_data,\n",
        "          shuffle=False\n",
        "          )"
      ],
      "execution_count": 63,
      "outputs": [
        {
          "output_type": "stream",
          "text": [
            "Epoch 1/25\n",
            "1/1 [==============================] - 0s 246ms/step - loss: 0.4152 - acc: 0.5138 - val_loss: 0.1375 - val_acc: 0.4444\n",
            "Epoch 2/25\n",
            "1/1 [==============================] - 0s 23ms/step - loss: 0.4150 - acc: 0.5138 - val_loss: 0.1377 - val_acc: 0.4444\n",
            "Epoch 3/25\n",
            "1/1 [==============================] - 0s 23ms/step - loss: 0.4147 - acc: 0.5138 - val_loss: 0.1378 - val_acc: 0.4444\n",
            "Epoch 4/25\n",
            "1/1 [==============================] - 0s 23ms/step - loss: 0.4142 - acc: 0.5138 - val_loss: 0.1378 - val_acc: 0.4444\n",
            "Epoch 5/25\n",
            "1/1 [==============================] - 0s 25ms/step - loss: 0.4142 - acc: 0.5138 - val_loss: 0.1378 - val_acc: 0.4444\n",
            "Epoch 6/25\n",
            "1/1 [==============================] - 0s 24ms/step - loss: 0.4142 - acc: 0.5138 - val_loss: 0.1377 - val_acc: 0.4444\n",
            "Epoch 7/25\n",
            "1/1 [==============================] - 0s 24ms/step - loss: 0.4131 - acc: 0.5138 - val_loss: 0.1375 - val_acc: 0.4444\n",
            "Epoch 8/25\n",
            "1/1 [==============================] - 0s 23ms/step - loss: 0.4127 - acc: 0.5138 - val_loss: 0.1372 - val_acc: 0.4444\n",
            "Epoch 9/25\n",
            "1/1 [==============================] - 0s 27ms/step - loss: 0.4124 - acc: 0.5138 - val_loss: 0.1370 - val_acc: 0.4444\n",
            "Epoch 10/25\n",
            "1/1 [==============================] - 0s 26ms/step - loss: 0.4119 - acc: 0.5138 - val_loss: 0.1366 - val_acc: 0.4444\n",
            "Epoch 11/25\n",
            "1/1 [==============================] - 0s 28ms/step - loss: 0.4119 - acc: 0.5138 - val_loss: 0.1363 - val_acc: 0.4444\n",
            "Epoch 12/25\n",
            "1/1 [==============================] - 0s 25ms/step - loss: 0.4108 - acc: 0.5138 - val_loss: 0.1360 - val_acc: 0.4444\n",
            "Epoch 13/25\n",
            "1/1 [==============================] - 0s 30ms/step - loss: 0.4098 - acc: 0.6330 - val_loss: 0.1357 - val_acc: 0.6111\n",
            "Epoch 14/25\n",
            "1/1 [==============================] - 0s 28ms/step - loss: 0.4101 - acc: 0.5688 - val_loss: 0.1354 - val_acc: 0.6389\n",
            "Epoch 15/25\n",
            "1/1 [==============================] - 0s 22ms/step - loss: 0.4081 - acc: 0.7523 - val_loss: 0.1352 - val_acc: 0.6111\n",
            "Epoch 16/25\n",
            "1/1 [==============================] - 0s 24ms/step - loss: 0.4086 - acc: 0.7064 - val_loss: 0.1349 - val_acc: 0.6389\n",
            "Epoch 17/25\n",
            "1/1 [==============================] - 0s 27ms/step - loss: 0.4070 - acc: 0.7431 - val_loss: 0.1346 - val_acc: 0.6389\n",
            "Epoch 18/25\n",
            "1/1 [==============================] - 0s 25ms/step - loss: 0.4055 - acc: 0.7248 - val_loss: 0.1343 - val_acc: 0.6111\n",
            "Epoch 19/25\n",
            "1/1 [==============================] - 0s 23ms/step - loss: 0.4032 - acc: 0.7431 - val_loss: 0.1340 - val_acc: 0.6389\n",
            "Epoch 20/25\n",
            "1/1 [==============================] - 0s 26ms/step - loss: 0.4035 - acc: 0.6606 - val_loss: 0.1335 - val_acc: 0.6389\n",
            "Epoch 21/25\n",
            "1/1 [==============================] - 0s 24ms/step - loss: 0.4025 - acc: 0.7248 - val_loss: 0.1328 - val_acc: 0.7778\n",
            "Epoch 22/25\n",
            "1/1 [==============================] - 0s 24ms/step - loss: 0.4034 - acc: 0.7431 - val_loss: 0.1321 - val_acc: 0.8333\n",
            "Epoch 23/25\n",
            "1/1 [==============================] - 0s 25ms/step - loss: 0.3989 - acc: 0.8257 - val_loss: 0.1315 - val_acc: 0.8333\n",
            "Epoch 24/25\n",
            "1/1 [==============================] - 0s 25ms/step - loss: 0.3963 - acc: 0.8349 - val_loss: 0.1309 - val_acc: 0.8333\n",
            "Epoch 25/25\n",
            "1/1 [==============================] - 0s 24ms/step - loss: 0.3957 - acc: 0.8257 - val_loss: 0.1302 - val_acc: 0.8333\n"
          ],
          "name": "stdout"
        }
      ]
    },
    {
      "cell_type": "code",
      "metadata": {
        "colab": {
          "base_uri": "https://localhost:8080/",
          "height": 284
        },
        "id": "rvM8sxgy-lQF",
        "outputId": "85c1c289-ef5c-44f5-868f-c23b8deaca7e"
      },
      "source": [
        "import matplotlib \n",
        "from matplotlib import pyplot\n",
        "pyplot.plot(history1.history['val_acc'], label='val_accu')\n",
        "pyplot.plot(history1.history['acc'],label = 'train_accu') \n",
        "\n",
        "pyplot.legend()"
      ],
      "execution_count": 64,
      "outputs": [
        {
          "output_type": "execute_result",
          "data": {
            "text/plain": [
              "<matplotlib.legend.Legend at 0x7f2d9c1aa080>"
            ]
          },
          "metadata": {
            "tags": []
          },
          "execution_count": 64
        },
        {
          "output_type": "display_data",
          "data": {
            "image/png": "[encoded data removed]",
            "text/plain": [
              "<Figure size 432x288 with 1 Axes>"
            ]
          },
          "metadata": {
            "tags": [],
            "needs_background": "light"
          }
        }
      ]
    },
    {
      "cell_type": "code",
      "metadata": {
        "colab": {
          "base_uri": "https://localhost:8080/"
        },
        "id": "SRpGWelC_fti",
        "outputId": "eeae7ae9-265e-444b-8b31-04d779a4ae0d"
      },
      "source": [
        "max(history1.history['val_acc'])"
      ],
      "execution_count": 66,
      "outputs": [
        {
          "output_type": "execute_result",
          "data": {
            "text/plain": [
              "0.8333333134651184"
            ]
          },
          "metadata": {
            "tags": []
          },
          "execution_count": 66
        }
      ]
    },
    {
      "cell_type": "code",
      "metadata": {
        "colab": {
          "base_uri": "https://localhost:8080/",
          "height": 282
        },
        "id": "-_1PIcTj_ftj",
        "outputId": "4f164cf7-1d3f-4568-e25b-35230e025318"
      },
      "source": [
        "\n",
        "pyplot.plot(history1.history['loss'],label = 'train_loss') \n",
        " \n",
        "pyplot.legend()"
      ],
      "execution_count": 67,
      "outputs": [
        {
          "output_type": "execute_result",
          "data": {
            "text/plain": [
              "<matplotlib.legend.Legend at 0x7f2d9e247da0>"
            ]
          },
          "metadata": {
            "tags": []
          },
          "execution_count": 67
        },
        {
          "output_type": "display_data",
          "data": {
            "image/png": "[encoded data removed]",
            "text/plain": [
              "<Figure size 432x288 with 1 Axes>"
            ]
          },
          "metadata": {
            "tags": [],
            "needs_background": "light"
          }
        }
      ]
    },
    {
      "cell_type": "code",
      "metadata": {
        "colab": {
          "base_uri": "https://localhost:8080/",
          "height": 282
        },
        "id": "-pgB4ZGw_ftk",
        "outputId": "8daac120-ede8-4611-c73c-c28aca74bffd"
      },
      "source": [
        "\n",
        "pyplot.plot(history1.history['val_loss'], label='val_loss')\n",
        "\n",
        "pyplot.legend()"
      ],
      "execution_count": 68,
      "outputs": [
        {
          "output_type": "execute_result",
          "data": {
            "text/plain": [
              "<matplotlib.legend.Legend at 0x7f2d9ea76fd0>"
            ]
          },
          "metadata": {
            "tags": []
          },
          "execution_count": 68
        },
        {
          "output_type": "display_data",
          "data": {
            "image/png": "[encoded data removed]",
            "text/plain": [
              "<Figure size 432x288 with 1 Axes>"
            ]
          },
          "metadata": {
            "tags": [],
            "needs_background": "light"
          }
        }
      ]
    },
    {
      "cell_type": "code",
      "metadata": {
        "id": "DG46lCGJ_Z8l"
      },
      "source": [
        ""
      ],
      "execution_count": null,
      "outputs": []
    },
    {
      "cell_type": "markdown",
      "metadata": {
        "id": "ERxoLB1HCnSq"
      },
      "source": [
        "##References\n",
        "GCN:\n",
        "Topic: Training Graph Convolutional Networks on Node Classification Task\n",
        "Website: https://towardsdatascience.com/graph-convolutional-networks-on-node-classification-2b6bbec1d042"
      ]
    },
    {
      "cell_type": "code",
      "metadata": {
        "id": "odr0Dhk6C234"
      },
      "source": [
        ""
      ],
      "execution_count": null,
      "outputs": []
    }
  ]
}